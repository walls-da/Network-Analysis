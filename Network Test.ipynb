{
 "cells": [
  {
   "cell_type": "markdown",
   "id": "86b75585-a8fa-4ef6-9ddf-d1f998f69db4",
   "metadata": {},
   "source": [
    "#### Test for network analysis"
   ]
  },
  {
   "cell_type": "code",
   "execution_count": 1,
   "id": "88b60ebd-af08-4d66-b074-7ad56fbfd244",
   "metadata": {
    "tags": []
   },
   "outputs": [
    {
     "data": {
      "text/plain": [
       "4"
      ]
     },
     "execution_count": 1,
     "metadata": {},
     "output_type": "execute_result"
    }
   ],
   "source": [
    "1+1+1+1"
   ]
  }
 ],
 "metadata": {
  "kernelspec": {
   "display_name": "Python 3 (ipykernel)",
   "language": "python",
   "name": "python3"
  },
  "language_info": {
   "codemirror_mode": {
    "name": "ipython",
    "version": 3
   },
   "file_extension": ".py",
   "mimetype": "text/x-python",
   "name": "python",
   "nbconvert_exporter": "python",
   "pygments_lexer": "ipython3",
   "version": "3.11.5"
  }
 },
 "nbformat": 4,
 "nbformat_minor": 5
}
